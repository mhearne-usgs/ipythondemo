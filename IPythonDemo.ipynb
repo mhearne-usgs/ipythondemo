{
 "metadata": {
  "name": "",
  "signature": "sha256:aa658951fdaf5b04e96356e85290c3fd20f35a37b17f203a738e31b6adc8037a"
 },
 "nbformat": 3,
 "nbformat_minor": 0,
 "worksheets": [
  {
   "cells": [
    {
     "cell_type": "heading",
     "level": 1,
     "metadata": {},
     "source": [
      "<center>Interactive Computing with IPython for GeoScientists</center>"
     ]
    },
    {
     "cell_type": "heading",
     "level": 2,
     "metadata": {},
     "source": [
      "<center>Introduction</center>"
     ]
    },
    {
     "cell_type": "markdown",
     "metadata": {},
     "source": [
      "Assumptions:\n",
      "    \n",
      " - You have been exposed to Python\n",
      "   - Data types: lists, dictionaries, strings, floats, etc.\n",
      "   - Basics about functions, classes, etc.\n",
      "        \n",
      "During this demo, you will be exposed to:\n",
      "    \n",
      " - *IPython*, a web-based interactive computational environment (hint: you're lookin' at it)\n",
      " - *Numpy*, the fundamental package for scientific computing.  (array data type, libraries for linear algebra, Fourier transforms, etc.)\n",
      " - *Matplotlib*, a 2D plotting library.\n",
      " - *Pandas*, a data analysis library.\n",
      " - *ObsPy*, an open-source project dedicated to provide a Python framework for processing seismological data."
     ]
    },
    {
     "cell_type": "heading",
     "level": 2,
     "metadata": {},
     "source": [
      "<center>IPython Background</center>"
     ]
    },
    {
     "cell_type": "markdown",
     "metadata": {},
     "source": [
      "What is IPython?\n",
      "\n",
      "python terminal => IPython terminal => massive re-write of IPython => ipython kernel\n",
      "    \n",
      "Connect to that kernel through: \n",
      "    \n",
      " - the command line\n",
      " - the IPython notebook (browser)\n",
      " - GUI terminal\n",
      " - ..."
     ]
    },
    {
     "cell_type": "heading",
     "level": 2,
     "metadata": {},
     "source": [
      "<center>Getting Started</center>"
     ]
    },
    {
     "cell_type": "markdown",
     "metadata": {},
     "source": [
      "First of all, you need Python, plus some other stuff that makes it interesting for scientists.  \n",
      "\n",
      "I recommend Anaconda from Continuum Analytics. http://continuum.io/downloads"
     ]
    },
    {
     "cell_type": "markdown",
     "metadata": {},
     "source": [
      "There are other sources for \"scientific\" Python distributions, listed here: http://www.scipy.org/install.html"
     ]
    },
    {
     "cell_type": "markdown",
     "metadata": {},
     "source": [
      "Once IPython is installed, you need to start it up (from a Terminal):"
     ]
    },
    {
     "cell_type": "markdown",
     "metadata": {},
     "source": [
      "    ipython notebook\n",
      "    \n"
     ]
    },
    {
     "cell_type": "heading",
     "level": 4,
     "metadata": {},
     "source": [
      "IPython Cells"
     ]
    },
    {
     "cell_type": "markdown",
     "metadata": {},
     "source": [
      "This is a markdown *cell*.\n",
      "\n",
      "This is the second line."
     ]
    },
    {
     "cell_type": "code",
     "collapsed": false,
     "input": [
      "#This is a code cell\n",
      "foo = 3\n",
      "print foo\n",
      "print 'hello'"
     ],
     "language": "python",
     "metadata": {},
     "outputs": []
    },
    {
     "cell_type": "markdown",
     "metadata": {},
     "source": [
      "(*pylab* is a Matlab-like namespace which makes it convenient to create arrays, make plots, etc.)"
     ]
    },
    {
     "cell_type": "code",
     "collapsed": false,
     "input": [
      "%matplotlib"
     ],
     "language": "python",
     "metadata": {},
     "outputs": []
    },
    {
     "cell_type": "heading",
     "level": 2,
     "metadata": {},
     "source": [
      "<center>Plotting</center>"
     ]
    },
    {
     "cell_type": "heading",
     "level": 4,
     "metadata": {},
     "source": [
      "Plotting with Random Data:"
     ]
    },
    {
     "cell_type": "code",
     "collapsed": false,
     "input": [
      "x = rand(300,1) #this results in a Numpy array - more on this later\n",
      "y = rand(300,1)"
     ],
     "language": "python",
     "metadata": {},
     "outputs": []
    },
    {
     "cell_type": "code",
     "collapsed": false,
     "input": [
      "fig = figure(figsize=(10,6))\n",
      "plot(x,y,'b.')\n",
      "th = title('Random Points')\n",
      "xl = xlabel('X')\n",
      "yl = ylabel('Y')"
     ],
     "language": "python",
     "metadata": {},
     "outputs": []
    },
    {
     "cell_type": "heading",
     "level": 4,
     "metadata": {},
     "source": [
      "Plotting with Real Data <em>or</em> \n",
      "\n",
      "How Not To Do Loss Modeling"
     ]
    },
    {
     "cell_type": "markdown",
     "metadata": {},
     "source": [
      "<em>NB: The SciPy stack includes a package called <em>pandas</em>, which provides R-like data analysis and tools for reading in spreadsheet-like data (CSV, Excel, etc.)</em>"
     ]
    },
    {
     "cell_type": "code",
     "collapsed": false,
     "input": [
      "import pandas as pd\n",
      "import numpy as np\n",
      "\n",
      "df = pd.read_excel('EXPO_CAT_2007_12.xlsx',sheetname='Sheet1')\n",
      "f = figure(figsize=(10,6))\n",
      "ph=semilogy(df['PAGER_prefMag'].get_values(),df['PAGER_prefShakingDeaths'].get_values(),'r.')\n",
      "th=xlabel('Magnitude')\n",
      "th=ylabel('Shaking Deaths')\n",
      "th=title('Magnitude vs Shaking Deaths')"
     ],
     "language": "python",
     "metadata": {},
     "outputs": []
    },
    {
     "cell_type": "markdown",
     "metadata": {},
     "source": [
      "...and this is why we don't model fatalities this way!"
     ]
    },
    {
     "cell_type": "heading",
     "level": 2,
     "metadata": {},
     "source": [
      "<center>Data Arrays</center>"
     ]
    },
    {
     "cell_type": "heading",
     "level": 4,
     "metadata": {},
     "source": [
      "Python lists vs Numpy Arrays"
     ]
    },
    {
     "cell_type": "code",
     "collapsed": false,
     "input": [
      "x = [1,2,3,4,5] #a homogenous python list\n",
      "y = array(x) #this is a numpy array, created with a list as input\n",
      "\n",
      "#To multiply every element in a list by 5, you have to loop over the list\n",
      "for i in range(0,len(x)):\n",
      "    x[i] = x[i] * 5\n",
      "\n",
      "print x\n",
      "\n",
      "#To multiply every element in a numpy array by 5, just do this:\n",
      "y = y * 5\n",
      "print y"
     ],
     "language": "python",
     "metadata": {},
     "outputs": []
    },
    {
     "cell_type": "heading",
     "level": 4,
     "metadata": {},
     "source": [
      "Optimization"
     ]
    },
    {
     "cell_type": "markdown",
     "metadata": {},
     "source": [
      "There are a number of packages and methods for optimizing Python code.  Here is a very basic progression."
     ]
    },
    {
     "cell_type": "code",
     "collapsed": false,
     "input": [
      "#Looping over two lists of a million values and doing calculations on each element\n",
      "import datetime\n",
      "a = range(0,1000000)\n",
      "b = range(0,1000000)\n",
      "t1 = datetime.datetime.now()\n",
      "for i in range(0,len(a)):\n",
      "    a[i]**2 + b[i]**2 + 2*a[i]*b[i]\n",
      "t2 = datetime.datetime.now()\n",
      "dt1 = ((t2-t1).microseconds/1e6)\n",
      "print 'Looping over list: %.2e seconds' % dt1"
     ],
     "language": "python",
     "metadata": {},
     "outputs": []
    },
    {
     "cell_type": "code",
     "collapsed": false,
     "input": [
      "#Vectorizing with numpy\n",
      "import numpy as np\n",
      "a = np.arange(1e6)\n",
      "b = np.arange(1e6)\n",
      "t3 = datetime.datetime.now()\n",
      "a**2 + b**2 + 2*a*b\n",
      "t4 = datetime.datetime.now()\n",
      "dt2 = ((t4-t3).microseconds/1e6)\n",
      "print 'Numpy array: %.2e seconds' % dt2\n",
      "print 'Numpy is %.1fx faster than looping over a list' % (dt1/dt2)"
     ],
     "language": "python",
     "metadata": {},
     "outputs": []
    },
    {
     "cell_type": "code",
     "collapsed": false,
     "input": [
      "#Running on multiple cores with numexpr\n",
      "import numexpr as ne\n",
      "t5 = datetime.datetime.now()\n",
      "ne.evaluate(\"a**2 + b**2 + 2*a*b\") #Turn simple numpy expression into a string\n",
      "t6 = datetime.datetime.now()\n",
      "dt3 = ((t6-t5).microseconds/1e6)\n",
      "print 'numexpr eval: %.2e seconds' % dt3\n",
      "print 'Numexpr is %.1fx faster than numpy' % (dt2/dt3)"
     ],
     "language": "python",
     "metadata": {},
     "outputs": []
    },
    {
     "cell_type": "heading",
     "level": 4,
     "metadata": {},
     "source": [
      "2D Arrays (ShakeMap Example)"
     ]
    },
    {
     "cell_type": "code",
     "collapsed": false,
     "input": [
      "from neicio.shake import ShakeGrid #ShakeGrid is a class that holds one variable of a ShakeMap grid XML file\n",
      "shakemap = ShakeGrid('grid.xml',variable='PGA') #remember that getContents() returns a *list* of files\n",
      "attributes = shakemap.getAttributes()\n",
      "fig = figure(figsize=(8,8))\n",
      "ax = fig.add_axes([0,0,1.0,1.0])\n",
      "p = imshow(shakemap.griddata)\n",
      "xlabel('Columns')\n",
      "ylabel('Rows')\n",
      "locstr = attributes['event']['event_description']\n",
      "mag = attributes['event']['magnitude']\n",
      "datestr = attributes['event']['event_timestamp'].strftime('%b %d, %Y %H:%M:%S')\n",
      "th = title('PGA for %s - %s M%.1f' % (locstr,datestr,mag))\n",
      "ch=colorbar(shrink=0.7)"
     ],
     "language": "python",
     "metadata": {},
     "outputs": []
    },
    {
     "cell_type": "heading",
     "level": 2,
     "metadata": {},
     "source": [
      "<center>ObsPy - Python for Seismologists</center>"
     ]
    },
    {
     "cell_type": "markdown",
     "metadata": {},
     "source": [
      "*obspy* is a Python package which provides tools to access, process, and visualize seismological data.\n",
      "\n",
      "There is a CWB module for ObsPy.  Waveform data is organized into Streams.  From the obspy website:\n",
      "\n",
      ">Streams are list-like objects which contain multiple Trace objects, i.e. gap-less continuous time series and related header/meta information."
     ]
    },
    {
     "cell_type": "heading",
     "level": 4,
     "metadata": {},
     "source": [
      "Retrieving Data from CWB"
     ]
    },
    {
     "cell_type": "code",
     "collapsed": false,
     "input": [
      "import warnings\n",
      "warnings.simplefilter(\"ignore\", DeprecationWarning)\n",
      "from obspy.neic import Client\n",
      "from obspy import UTCDateTime\n",
      "from obspy import read\n",
      "client = Client()\n",
      "t = UTCDateTime() - 5 * 3600  # 5 hours before now\n",
      "stream = client.getWaveform(\"IU\", \"ANMO\", \"00\", \"BH?\", t, t + 1000)\n",
      "fig = figure(figsize=(12,4))\n",
      "ph = stream.plot()"
     ],
     "language": "python",
     "metadata": {},
     "outputs": []
    },
    {
     "cell_type": "heading",
     "level": 4,
     "metadata": {},
     "source": [
      "Plotting Focal Mechanisms on a Map"
     ]
    },
    {
     "cell_type": "code",
     "collapsed": false,
     "input": [
      "#First we need to write a quick function to get the last 30 days's worth of focal mechanisms.  \n",
      "#To do this, we'll pull down the last 7 days of events from the web site, and extract the strike, \n",
      "#dip and rake values for those events which have had a moment tensor generated for them.\n",
      "import urllib2\n",
      "import json\n",
      "def getRecentFM():\n",
      "    feed7 = 'http://earthquake.usgs.gov/earthquakes/feed/v1.0/summary/4.5_week.geojson'\n",
      "    feed30 = 'http://earthquake.usgs.gov/earthquakes/feed/v1.0/summary/4.5_month.geojson'\n",
      "    fh = urllib2.urlopen(feed30)\n",
      "    data = fh.read()\n",
      "    fh.close()\n",
      "    jdict = json.loads(data)\n",
      "    focals = []\n",
      "    for event in jdict['features']:\n",
      "        etypes = event['properties']['types'].strip(',').split(',')\n",
      "        if 'moment-tensor' in etypes or 'focal-mechanism' in etypes:\n",
      "            lon,lat,depth = event['geometry']['coordinates']\n",
      "            eurl = event['properties']['url']+'.json'\n",
      "            fh = urllib2.urlopen(eurl)\n",
      "            edata = fh.read()\n",
      "            fh.close()\n",
      "            edict = json.loads(edata)\n",
      "            if not edict['products']['moment-tensor'][0]['properties'].has_key('nodal-plane-1-strike'):\n",
      "                continue\n",
      "            strike = float(edict['products']['moment-tensor'][0]['properties']['nodal-plane-1-strike'])\n",
      "            dip = float(edict['products']['moment-tensor'][0]['properties']['nodal-plane-1-dip'])\n",
      "            if edict['products']['moment-tensor'][0]['properties'].has_key('nodal-plane-1-rake'):\n",
      "                rake = float(edict['products']['moment-tensor'][0]['properties']['nodal-plane-1-rake'])\n",
      "            else:\n",
      "                rake = float(edict['products']['moment-tensor'][0]['properties']['nodal-plane-1-slip'])\n",
      "            focals.append((lat,lon,strike,dip,rake))\n",
      "    return focals"
     ],
     "language": "python",
     "metadata": {},
     "outputs": []
    },
    {
     "cell_type": "code",
     "collapsed": false,
     "input": [
      "eventlist = getRecentFM()"
     ],
     "language": "python",
     "metadata": {},
     "outputs": []
    },
    {
     "cell_type": "code",
     "collapsed": false,
     "input": [
      "len(eventlist)"
     ],
     "language": "python",
     "metadata": {},
     "outputs": []
    },
    {
     "cell_type": "markdown",
     "metadata": {},
     "source": [
      "Set up a map with Basemap, a mapping extension to the matplotlib package - handy for replacing GMT :)"
     ]
    },
    {
     "cell_type": "code",
     "collapsed": false,
     "input": [
      "from mpl_toolkits.basemap import Basemap\n",
      "fig = figure(figsize=(12,12))\n",
      "ax = fig.add_axes([0,0,1.0,1.0])\n",
      "m = Basemap(projection='cyl', lon_0=142.36929, lat_0=38.3215,\n",
      "            resolution='c',ax=ax)\n",
      "m.drawcoastlines()\n",
      "m.fillcontinents(lake_color='#2E2EFE')\n",
      "m.drawparallels(np.arange(-90., 120., 30.))\n",
      "m.drawmeridians(np.arange(0., 420., 60.))\n",
      "m.drawmapboundary(fill_color='#2E2EFE')\n",
      "for event in eventlist:\n",
      "    lat,lon = event[0:2]\n",
      "    fm = event[2:]\n",
      "    x, y = m(lon, lat)\n",
      "    b = Beach(fm, xy=(x, y), width=10, linewidth=1, alpha=0.85,facecolor='r')\n",
      "    b.set_zorder(10)\n",
      "    bc=ax.add_collection(b)"
     ],
     "language": "python",
     "metadata": {},
     "outputs": []
    },
    {
     "cell_type": "heading",
     "level": 4,
     "metadata": {},
     "source": [
      "Using ObsPy to get peak ground motions"
     ]
    },
    {
     "cell_type": "code",
     "collapsed": false,
     "input": [
      "from smtools.turkey import readturkey\n",
      "tracelist = readturkey('20111023104120_4902.txt')\n",
      "ewtrace = tracelist[0][1] #Get the EW component of the station in this data file from Turkey\n",
      "net = ewtrace.stats['network']\n",
      "station = ewtrace.stats['station']\n",
      "location = ewtrace.stats['location']\n",
      "channel = ewtrace.stats['channel']\n",
      "channel_id = '%s.%s.%s.%s' % (net,station,location,channel)\n",
      "print channel_id\n",
      "ewtrace.plot()"
     ],
     "language": "python",
     "metadata": {},
     "outputs": []
    },
    {
     "cell_type": "code",
     "collapsed": false,
     "input": [
      "ewtrace.detrend('linear')\n",
      "ewtrace.detrend('demean')\n",
      "ewtrace.taper(max_percentage=0.05, type='cosine')\n",
      "ewtrace.plot()"
     ],
     "language": "python",
     "metadata": {},
     "outputs": []
    },
    {
     "cell_type": "code",
     "collapsed": false,
     "input": [
      "ewtrace.filter('highpass',freq=0.02,zerophase=True,corners=4)\n",
      "pga = np.max(np.abs(ewtrace.data))\n",
      "print 'Peak acceleration of %s is %.2f m/s^2' % (channel_id,pga)\n",
      "vtrace = ewtrace.copy()\n",
      "vtrace.integrate()\n",
      "pgv = np.max(np.abs(vtrace.data))\n",
      "print 'Peak velocity of %s is %.2f m/s' % (channel_id,pgv)\n",
      "vtrace.plot()"
     ],
     "language": "python",
     "metadata": {},
     "outputs": []
    },
    {
     "cell_type": "heading",
     "level": 2,
     "metadata": {},
     "source": [
      "<center>Resources</center>"
     ]
    },
    {
     "cell_type": "markdown",
     "metadata": {},
     "source": [
      " * This demonstration: https://github.com/mhearne-usgs/ipythondemo\n",
      " * Markdown Syntax: http://daringfireball.net/projects/markdown/\n",
      " * Python for Scientists: http://nbviewer.ipython.org/gist/rpmuller/5920182\n",
      " * SciPy (core numerical libraries): http://docs.scipy.org/doc/scipy/reference/\n",
      " * Matplotlib (generic 2D and 3D plotting): http://matplotlib.org/api/pyplot_summary.html and http://matplotlib.org/gallery.html\n",
      " * ObsPy (seismological tools): http://docs.obspy.org/tutorial/ "
     ]
    },
    {
     "cell_type": "heading",
     "level": 2,
     "metadata": {},
     "source": [
      "<center>Other Possible Topics:</center>"
     ]
    },
    {
     "cell_type": "markdown",
     "metadata": {},
     "source": [
      "- SymPy : Symbolic math package - like Mathematica\n",
      "- More on Pandas: Implementation of R-like Data Frame object, also reads/writes Excel well (!)\n",
      "- More detailed overview of ObsPy - triggers, picks, etc.\n",
      "- Using nbconvert to save Notebooks as PDF, HTML, Python script...\n",
      "- Scipy modules for:\n",
      "    - statistics\n",
      "    - function optimization\n",
      "    - interpolation\n",
      "    - Fourier transforms\n",
      "    - signal processing\n",
      "    - linear algebra\n",
      "    - machine learning (Bayesian, logistic regression, etc., etc.)\n",
      "    "
     ]
    },
    {
     "cell_type": "code",
     "collapsed": false,
     "input": [],
     "language": "python",
     "metadata": {},
     "outputs": []
    }
   ],
   "metadata": {}
  }
 ]
}