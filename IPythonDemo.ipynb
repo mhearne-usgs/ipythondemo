{
 "metadata": {
  "name": "",
  "signature": "sha256:e022a510c5c004d295209cbc203bd7ea065c15873abac8d2feaf93c3bdc3a80c"
 },
 "nbformat": 3,
 "nbformat_minor": 0,
 "worksheets": [
  {
   "cells": [
    {
     "cell_type": "heading",
     "level": 1,
     "metadata": {},
     "source": [
      "<center>Interactive Computing with IPython for GeoScientists</center>"
     ]
    },
    {
     "cell_type": "heading",
     "level": 2,
     "metadata": {},
     "source": [
      "<center>Introduction</center>"
     ]
    },
    {
     "cell_type": "markdown",
     "metadata": {},
     "source": [
      "Assumptions:\n",
      "    \n",
      " - You have been exposed to Python, or a similar language and know about:\n",
      "   - Data types: lists, dictionaries, strings, floats, etc.\n",
      "   - Basics about functions, classes, etc.\n",
      "        \n",
      "During this demo, you will be exposed to:\n",
      "    \n",
      " - *IPython*, a web-based interactive computational environment (hint: you're looking at it)\n",
      " - *Numpy*, the fundamental package for scientific computing.  (array data type, libraries for linear algebra, Fourier transforms, etc.)\n",
      " - *Matplotlib*, a 2D plotting library.\n",
      " - *Pandas*, a data analysis library.\n",
      " - *ObsPy*, an open-source project dedicated to provide a Python framework for processing seismological data."
     ]
    },
    {
     "cell_type": "heading",
     "level": 2,
     "metadata": {},
     "source": [
      "<center>IPython Background</center>"
     ]
    },
    {
     "cell_type": "markdown",
     "metadata": {},
     "source": [
      "What is IPython?\n",
      "\n",
      "python terminal => IPython terminal => massive re-write of IPython => ipython kernel\n",
      "    \n",
      "Connect to that kernel through: \n",
      "    \n",
      " - the command line\n",
      " - the IPython notebook (browser)\n",
      " - GUI terminal\n",
      " - ..."
     ]
    },
    {
     "cell_type": "heading",
     "level": 2,
     "metadata": {},
     "source": [
      "<center>Getting Started</center>"
     ]
    },
    {
     "cell_type": "markdown",
     "metadata": {},
     "source": [
      "First of all, you need Python, plus some other stuff that makes it interesting for scientists.  \n",
      "\n",
      "I recommend Anaconda from Continuum Analytics. http://continuum.io/downloads"
     ]
    },
    {
     "cell_type": "markdown",
     "metadata": {},
     "source": [
      "There are other sources for \"scientific\" Python distributions, listed here: http://www.scipy.org/install.html"
     ]
    },
    {
     "cell_type": "markdown",
     "metadata": {},
     "source": [
      "Once IPython is installed, you need to start it up (from a Terminal):"
     ]
    },
    {
     "cell_type": "markdown",
     "metadata": {},
     "source": [
      "    ipython notebook\n",
      "    \n"
     ]
    },
    {
     "cell_type": "heading",
     "level": 4,
     "metadata": {},
     "source": [
      "IPython Cells"
     ]
    },
    {
     "cell_type": "markdown",
     "metadata": {},
     "source": [
      "This is a markdown *cell*.\n",
      "\n",
      "This is the second line.\n",
      "\n",
      "You cause the browser to render the markdown text in this cell by hitting \"Shift-Return\"."
     ]
    },
    {
     "cell_type": "code",
     "collapsed": false,
     "input": [
      "#This is a code cell\n",
      "#You execute all of the code in these cells by hitting \"Shift-Return\".\n",
      "foo = 3\n",
      "print foo\n",
      "print 'hello'"
     ],
     "language": "python",
     "metadata": {},
     "outputs": []
    },
    {
     "cell_type": "markdown",
     "metadata": {},
     "source": [
      "The following \"magic\" command (anything prefaced with \"%\" is referred to as *magic*) allows plots to be shown in-line with the code and markdown cells."
     ]
    },
    {
     "cell_type": "code",
     "collapsed": false,
     "input": [
      "%matplotlib inline"
     ],
     "language": "python",
     "metadata": {},
     "outputs": []
    },
    {
     "cell_type": "heading",
     "level": 2,
     "metadata": {},
     "source": [
      "<center>Plotting</center>"
     ]
    },
    {
     "cell_type": "heading",
     "level": 4,
     "metadata": {},
     "source": [
      "Plotting with Random Data:"
     ]
    },
    {
     "cell_type": "code",
     "collapsed": false,
     "input": [
      "#The import statement allows you to use code from other modules \n",
      "import numpy as np\n",
      "import matplotlib.pyplot as plt\n",
      "x = np.random.rand(300,1) #this results in a Numpy array - more on this later\n",
      "y = np.random.rand(300,1)"
     ],
     "language": "python",
     "metadata": {},
     "outputs": []
    },
    {
     "cell_type": "code",
     "collapsed": false,
     "input": [
      "fig = plt.figure(figsize=(10,6))\n",
      "plt.plot(x,y,'b.')\n",
      "th = plt.title('Random Points')\n",
      "xl = plt.xlabel('X')\n",
      "yl = plt.ylabel('Y')"
     ],
     "language": "python",
     "metadata": {},
     "outputs": []
    },
    {
     "cell_type": "heading",
     "level": 4,
     "metadata": {},
     "source": [
      "Plotting with Real Data <em>or</em> \n",
      "\n",
      "How Not To Do Loss Modeling"
     ]
    },
    {
     "cell_type": "markdown",
     "metadata": {},
     "source": [
      "<em>NB: The SciPy stack includes a package called <em>pandas</em>, which provides R-like data analysis and tools for reading in spreadsheet-like data (CSV, Excel, etc.)</em>"
     ]
    },
    {
     "cell_type": "code",
     "collapsed": false,
     "input": [
      "import pandas as pd\n",
      "\n",
      "df = pd.read_excel('EXPO_CAT_2007_12.xlsx',sheetname='Sheet1')\n",
      "f = plt.figure(figsize=(10,6))\n",
      "ph = plt.semilogy(df['PAGER_prefMag'].get_values(),df['PAGER_prefShakingDeaths'].get_values(),'r.')\n",
      "th = plt.xlabel('Magnitude')\n",
      "th = plt.ylabel('Shaking Deaths')\n",
      "th = plt.title('Magnitude vs Shaking Deaths')"
     ],
     "language": "python",
     "metadata": {},
     "outputs": []
    },
    {
     "cell_type": "markdown",
     "metadata": {},
     "source": [
      "...and this is why we don't model fatalities this way!"
     ]
    },
    {
     "cell_type": "heading",
     "level": 2,
     "metadata": {},
     "source": [
      "<center>Data Arrays</center>"
     ]
    },
    {
     "cell_type": "heading",
     "level": 4,
     "metadata": {},
     "source": [
      "Python lists vs Numpy Arrays"
     ]
    },
    {
     "cell_type": "code",
     "collapsed": false,
     "input": [
      "x = [1,2,3,4,5] #a homogenous python list\n",
      "y = np.array(x) #this is a numpy array, created with a list as input\n",
      "\n",
      "#To multiply every element in a list by 5, you have to loop over the list\n",
      "for i in range(0,len(x)):\n",
      "    x[i] = x[i] * 5\n",
      "\n",
      "print x\n",
      "\n",
      "#To multiply every element in a numpy array by 5, just do this:\n",
      "y = y * 5\n",
      "print y"
     ],
     "language": "python",
     "metadata": {},
     "outputs": []
    },
    {
     "cell_type": "heading",
     "level": 4,
     "metadata": {},
     "source": [
      "Optimization"
     ]
    },
    {
     "cell_type": "markdown",
     "metadata": {},
     "source": [
      "There are a number of packages and methods for optimizing Python code.  Here is a very basic progression."
     ]
    },
    {
     "cell_type": "code",
     "collapsed": false,
     "input": [
      "#Looping over two lists of a million values and doing calculations on each element\n",
      "import datetime\n",
      "a = range(0,1000000)\n",
      "b = range(0,1000000)\n",
      "t1 = datetime.datetime.now()\n",
      "for i in range(0,len(a)):\n",
      "    a[i]**2 + b[i]**2 + 2*a[i]*b[i]\n",
      "t2 = datetime.datetime.now()\n",
      "dt1 = ((t2-t1).microseconds/1e6)\n",
      "print 'Looping over list: %.2e seconds' % dt1"
     ],
     "language": "python",
     "metadata": {},
     "outputs": []
    },
    {
     "cell_type": "code",
     "collapsed": false,
     "input": [
      "#Vectorizing with numpy\n",
      "a = np.arange(1e6)\n",
      "b = np.arange(1e6)\n",
      "t3 = datetime.datetime.now()\n",
      "a**2 + b**2 + 2*a*b\n",
      "t4 = datetime.datetime.now()\n",
      "dt2 = ((t4-t3).microseconds/1e6)\n",
      "print 'Numpy array: %.2e seconds' % dt2\n",
      "print 'Numpy is %.1fx faster than looping over a list' % (dt1/dt2)"
     ],
     "language": "python",
     "metadata": {},
     "outputs": []
    },
    {
     "cell_type": "code",
     "collapsed": false,
     "input": [
      "#Running on multiple cores with numexpr\n",
      "import numexpr as ne\n",
      "t5 = datetime.datetime.now()\n",
      "ne.evaluate(\"a**2 + b**2 + 2*a*b\") #Turn simple numpy expression into a string\n",
      "t6 = datetime.datetime.now()\n",
      "dt3 = ((t6-t5).microseconds/1e6)\n",
      "print 'numexpr eval: %.2e seconds' % dt3\n",
      "print 'Numexpr is %.1fx faster than numpy' % (dt2/dt3)"
     ],
     "language": "python",
     "metadata": {},
     "outputs": []
    },
    {
     "cell_type": "heading",
     "level": 4,
     "metadata": {},
     "source": [
      "2D Arrays (ShakeMap Example)"
     ]
    },
    {
     "cell_type": "code",
     "collapsed": false,
     "input": [
      "from neicio.shake import ShakeGrid #ShakeGrid is a class that holds one variable of a ShakeMap grid XML file\n",
      "shakemap = ShakeGrid('grid.xml',variable='PGA')\n",
      "attributes = shakemap.getAttributes()\n",
      "fig = plt.figure(figsize=(8,8))\n",
      "ax = fig.add_axes([0,0,1.0,1.0])\n",
      "p = plt.imshow(shakemap.griddata)\n",
      "plt.xlabel('Columns')\n",
      "plt.ylabel('Rows')\n",
      "locstr = attributes['event']['event_description']\n",
      "mag = attributes['event']['magnitude']\n",
      "datestr = attributes['event']['event_timestamp'].strftime('%b %d, %Y %H:%M:%S')\n",
      "th = plt.title('PGA for %s - %s M%.1f' % (locstr,datestr,mag))\n",
      "ch=plt.colorbar(shrink=0.7)\n",
      "\n",
      "#To save the above figure to a file, you can call the matplotlib savefig() function\n",
      "#NB: This function MUST be in the same cell as the code generating the figure\n",
      "#The formats supported by savefig() can vary, but generally speaking PNG, JPG, and PDF are well supported. \n",
      "plt.savefig('shakemap.png')"
     ],
     "language": "python",
     "metadata": {},
     "outputs": []
    },
    {
     "cell_type": "code",
     "collapsed": false,
     "input": [
      "#extra code cell to clean the PNG file made above - delete or don't execute this cell if you want to keep it\n",
      "#Any system command can be run from IPython by preceding it with \"!\"\n",
      "!rm shakemap.png"
     ],
     "language": "python",
     "metadata": {},
     "outputs": []
    },
    {
     "cell_type": "heading",
     "level": 4,
     "metadata": {},
     "source": [
      "3D Arrays (Hazard Map Example)"
     ]
    },
    {
     "cell_type": "code",
     "collapsed": false,
     "input": [
      "##optional code to download 5Hz hazard curve data - toggle comments with (cmd|ctrl)-/\n",
      "\n",
      "# import urllib2\n",
      "# import StringIO\n",
      "# import gzip\n",
      "# fh = urllib2.urlopen('http://earthquake.usgs.gov/hazards/products/conterminous/2008/data/2008.US.5hz.txt.gz')\n",
      "# data = fh.read() #this will take a few minutes\n",
      "# fh.close()\n",
      "# fobj = StringIO.StringIO(data)\n",
      "# myzip = gzip.GzipFile(None,'rb',9,fobj)\n",
      "# data = myzip.read()\n",
      "# f = open('2008.US.5hz.txt','wt')\n",
      "# f.write(data)\n",
      "# f.close()\n"
     ],
     "language": "python",
     "metadata": {},
     "outputs": []
    },
    {
     "cell_type": "code",
     "collapsed": false,
     "input": [
      "#Bring in a 5Hz hazard curve map\n",
      "from neicio.hazcurve import HazCurveGrid\n",
      "hazmap = HazCurveGrid('2008.US.5hz.txt')"
     ],
     "language": "python",
     "metadata": {},
     "outputs": []
    },
    {
     "cell_type": "code",
     "collapsed": false,
     "input": [
      "#extract the hazard curve data\n",
      "row = 255\n",
      "column = 90\n",
      "zdata = hazmap.griddata[row,column,:] #10th row, 10th column\n",
      "lat,lon = hazmap.getLatLon(row,column)\n",
      "\n",
      "fig = plt.figure(figsize=(12,5))\n",
      "ax = fig.add_axes([0,0,1.0,1.0])\n",
      "p = plt.imshow(hazmap.griddata[:,:,0])\n",
      "plt.xlabel('Columns')\n",
      "plt.ylabel('Rows')\n",
      "th = plt.title('Spectral Acceleration at %.1f seconds' % (hazmap.period))\n",
      "ch=plt.colorbar(shrink=0.8)\n",
      "plt.hold(True)\n",
      "plt.axis('image')\n",
      "plt.plot(column,row,'kx',markersize=12,linewidth=4) #X marks the spot where extract curve\n",
      "\n",
      "#Extract a hazard curve from this data set\n",
      "fig2 = plt.figure(figsize=(6,6))\n",
      "ax2 = fig2.add_axes([0,0,1.0,1.0])\n",
      "plt.semilogy(np.array(hazmap.geodict['bandnames']),zdata,'b')\n",
      "plt.xlabel('Frequency (Hz)')\n",
      "plt.ylabel('PSA02')\n",
      "th=plt.title('Hazard Curve (Period %.1f sec) at %.1f,%.1f' % (hazmap.period,lat,lon))"
     ],
     "language": "python",
     "metadata": {},
     "outputs": []
    },
    {
     "cell_type": "heading",
     "level": 2,
     "metadata": {},
     "source": [
      "<center>ObsPy - Python for Seismologists</center>"
     ]
    },
    {
     "cell_type": "markdown",
     "metadata": {},
     "source": [
      "*ObsPy* is a Python package which provides tools to access, process, and visualize seismological data.\n",
      "\n",
      "Notes:\n",
      " * There is a CWB module for ObsPy, which we can use to get data from seismometers.\n",
      " * Seismometer waveform data is organized into *Streams*.  From the obspy website:\n",
      "\n",
      ">Streams are list-like objects which contain multiple Trace objects, i.e. gap-less continuous time series and related header/meta information."
     ]
    },
    {
     "cell_type": "heading",
     "level": 4,
     "metadata": {},
     "source": [
      "Retrieving Data from CWB"
     ]
    },
    {
     "cell_type": "code",
     "collapsed": false,
     "input": [
      "import warnings\n",
      "warnings.simplefilter(\"ignore\", DeprecationWarning)\n",
      "from obspy.neic import Client\n",
      "from obspy import UTCDateTime\n",
      "from obspy import read\n",
      "client = Client()\n",
      "t = UTCDateTime() - 5 * 3600  # 5 hours before now\n",
      "stream = client.getWaveform(\"IU\", \"ANMO\", \"00\", \"BH?\", t, t + 120) #get 2 minutes worth of data\n",
      "fig = plt.figure(figsize=(12,4))\n",
      "ph = stream.plot()"
     ],
     "language": "python",
     "metadata": {},
     "outputs": []
    },
    {
     "cell_type": "heading",
     "level": 4,
     "metadata": {},
     "source": [
      "Plotting Focal Mechanisms on a Map"
     ]
    },
    {
     "cell_type": "code",
     "collapsed": false,
     "input": [
      "#First we need to write a quick function to get the last 7 or 30 days's worth of focal mechanisms.  \n",
      "#To do this, we'll pull down the last 7 days of events from the web site, and extract the strike, \n",
      "#dip and rake values for those events which have had a moment tensor generated for them.\n",
      "import urllib2\n",
      "import json\n",
      "def getRecentFM():\n",
      "    feed7 = 'http://earthquake.usgs.gov/earthquakes/feed/v1.0/summary/4.5_week.geojson'\n",
      "    feed30 = 'http://earthquake.usgs.gov/earthquakes/feed/v1.0/summary/4.5_month.geojson'\n",
      "    fh = urllib2.urlopen(feed7)\n",
      "    data = fh.read()\n",
      "    fh.close()\n",
      "    jdict = json.loads(data)\n",
      "    focals = []\n",
      "    for event in jdict['features']:\n",
      "        etypes = event['properties']['types'].strip(',').split(',')\n",
      "        if 'moment-tensor' in etypes or 'focal-mechanism' in etypes:\n",
      "            lon,lat,depth = event['geometry']['coordinates']\n",
      "            eurl = event['properties']['url']+'.json'\n",
      "            fh = urllib2.urlopen(eurl)\n",
      "            edata = fh.read()\n",
      "            fh.close()\n",
      "            edict = json.loads(edata)\n",
      "            if not edict['products']['moment-tensor'][0]['properties'].has_key('nodal-plane-1-strike'):\n",
      "                continue\n",
      "            strike = float(edict['products']['moment-tensor'][0]['properties']['nodal-plane-1-strike'])\n",
      "            dip = float(edict['products']['moment-tensor'][0]['properties']['nodal-plane-1-dip'])\n",
      "            if edict['products']['moment-tensor'][0]['properties'].has_key('nodal-plane-1-rake'):\n",
      "                rake = float(edict['products']['moment-tensor'][0]['properties']['nodal-plane-1-rake'])\n",
      "            else:\n",
      "                rake = float(edict['products']['moment-tensor'][0]['properties']['nodal-plane-1-slip'])\n",
      "            focals.append((lat,lon,strike,dip,rake))\n",
      "    return focals"
     ],
     "language": "python",
     "metadata": {},
     "outputs": []
    },
    {
     "cell_type": "code",
     "collapsed": false,
     "input": [
      "eventlist = getRecentFM()"
     ],
     "language": "python",
     "metadata": {},
     "outputs": []
    },
    {
     "cell_type": "code",
     "collapsed": false,
     "input": [
      "len(eventlist)"
     ],
     "language": "python",
     "metadata": {},
     "outputs": []
    },
    {
     "cell_type": "markdown",
     "metadata": {},
     "source": [
      "Set up a map with Basemap, a mapping extension to the matplotlib package - handy for replacing GMT :)"
     ]
    },
    {
     "cell_type": "code",
     "collapsed": false,
     "input": [
      "from mpl_toolkits.basemap import Basemap\n",
      "from obspy.imaging.beachball import Beach\n",
      "fig = plt.figure(figsize=(12,12))\n",
      "ax = fig.add_axes([0,0,1.0,1.0])\n",
      "m = Basemap(projection='cyl', lon_0=142.36929, lat_0=38.3215,\n",
      "            resolution='c',ax=ax)\n",
      "m.drawcoastlines()\n",
      "m.fillcontinents(lake_color='#2E2EFE')\n",
      "m.drawparallels(np.arange(-90., 120., 30.))\n",
      "m.drawmeridians(np.arange(0., 420., 60.))\n",
      "m.drawmapboundary(fill_color='#2E2EFE')\n",
      "for event in eventlist:\n",
      "    lat,lon = event[0:2]\n",
      "    fm = event[2:]\n",
      "    x, y = m(lon, lat)\n",
      "    b = Beach(fm, xy=(x, y), width=10, linewidth=1, alpha=0.85,facecolor='r')\n",
      "    b.set_zorder(10)\n",
      "    bc=ax.add_collection(b)"
     ],
     "language": "python",
     "metadata": {},
     "outputs": []
    },
    {
     "cell_type": "heading",
     "level": 4,
     "metadata": {},
     "source": [
      "Using ObsPy to get peak ground motions"
     ]
    },
    {
     "cell_type": "code",
     "collapsed": false,
     "input": [
      "from smtools.turkey import readturkey\n",
      "tracelist = readturkey('20111023104120_4902.txt')\n",
      "ewtrace = tracelist[0][1] #Get the EW component of the station in this data file from Turkey\n",
      "net = ewtrace.stats['network']\n",
      "station = ewtrace.stats['station']\n",
      "location = ewtrace.stats['location']\n",
      "channel = ewtrace.stats['channel']\n",
      "channel_id = '%s.%s.%s.%s' % (net,station,location,channel)\n",
      "print channel_id\n",
      "ewtrace.plot()"
     ],
     "language": "python",
     "metadata": {},
     "outputs": []
    },
    {
     "cell_type": "code",
     "collapsed": false,
     "input": [
      "ewtrace.detrend('linear')\n",
      "ewtrace.detrend('demean')\n",
      "ewtrace.taper(max_percentage=0.05, type='cosine')\n",
      "ewtrace.plot()"
     ],
     "language": "python",
     "metadata": {},
     "outputs": []
    },
    {
     "cell_type": "code",
     "collapsed": false,
     "input": [
      "ewtrace.filter('highpass',freq=0.02,zerophase=True,corners=4)\n",
      "pga = np.max(np.abs(ewtrace.data))\n",
      "print 'Peak acceleration of %s is %.2f m/s^2' % (channel_id,pga)\n",
      "vtrace = ewtrace.copy()\n",
      "vtrace.integrate()\n",
      "pgv = np.max(np.abs(vtrace.data))\n",
      "print 'Peak velocity of %s is %.2f m/s' % (channel_id,pgv)\n",
      "vtrace.plot()"
     ],
     "language": "python",
     "metadata": {},
     "outputs": []
    },
    {
     "cell_type": "heading",
     "level": 4,
     "metadata": {},
     "source": [
      "Stopping IPython"
     ]
    },
    {
     "cell_type": "markdown",
     "metadata": {},
     "source": [
      "In the Terminal window where you started IPython, hit Ctrl-C and answer 'y' when presented with this question:\n",
      "\n",
      "*Shutdown this notebook server (y/[n])?*"
     ]
    },
    {
     "cell_type": "heading",
     "level": 2,
     "metadata": {},
     "source": [
      "<center>Resources</center>"
     ]
    },
    {
     "cell_type": "markdown",
     "metadata": {},
     "source": [
      " * This demonstration: https://github.com/mhearne-usgs/ipythondemo\n",
      " * Markdown Syntax: http://daringfireball.net/projects/markdown/\n",
      " * Python Tutorial for Scientists: http://nbviewer.ipython.org/gist/rpmuller/5920182\n",
      " * IPython Tutorial: http://ipython.org/ipython-doc/2/interactive/tutorial.html\n",
      " * SciPy (core numerical libraries): http://docs.scipy.org/doc/scipy/reference/\n",
      " * Matplotlib (generic 2D and 3D plotting): http://matplotlib.org/api/pyplot_summary.html and http://matplotlib.org/gallery.html\n",
      " * Basemap (Geographic maps): http://matplotlib.org/basemap/api/basemap_api.html and http://matplotlib.org/basemap/users/examples.html\n",
      " * ObsPy (seismological tools): http://docs.obspy.org/tutorial/ "
     ]
    },
    {
     "cell_type": "heading",
     "level": 2,
     "metadata": {},
     "source": [
      "<center>Other Possible Topics:</center>"
     ]
    },
    {
     "cell_type": "markdown",
     "metadata": {},
     "source": [
      "- Using nbconvert to save Notebook as PDF, HTML, Python script...\n",
      "- SymPy : Symbolic math package - like Mathematica\n",
      "- More on Pandas: Implementation of R-like Data Frame object\n",
      "- More detailed overview of ObsPy - triggers, picks, etc.\n",
      "- Scipy modules for:\n",
      "    - statistics\n",
      "    - function optimization\n",
      "    - interpolation\n",
      "    - Fourier transforms\n",
      "    - signal processing\n",
      "    - linear algebra\n",
      "    - machine learning (Bayesian, logistic regression, etc., etc.)\n",
      "    "
     ]
    },
    {
     "cell_type": "code",
     "collapsed": false,
     "input": [
      "# with plt.xkcd():\n",
      "#     x = np.arange(0,12)\n",
      "#     y = np.random.rand(12,1)\n",
      "#     plt.plot(x,y,'b')\n",
      "#     plt.xlabel('Months')\n",
      "#     plt.ylabel('Profits')"
     ],
     "language": "python",
     "metadata": {},
     "outputs": []
    }
   ],
   "metadata": {}
  }
 ]
}